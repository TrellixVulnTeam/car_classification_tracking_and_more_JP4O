{
 "cells": [
  {
   "cell_type": "markdown",
   "source": [
    "# 车辆分类"
   ],
   "metadata": {}
  },
  {
   "cell_type": "markdown",
   "source": [
    "使用迁移学习进行车辆分类"
   ],
   "metadata": {}
  },
  {
   "cell_type": "code",
   "execution_count": 7,
   "source": [
    "#安装 Paddlehub\r\n",
    "! pip install paddlehub"
   ],
   "outputs": [
    {
     "output_type": "stream",
     "name": "stdout",
     "text": [
      "^C\n"
     ]
    },
    {
     "output_type": "stream",
     "name": "stderr",
     "text": [
      "WARNING: You are using pip version 21.1.2; however, version 21.1.3 is available.\n",
      "You should consider upgrading via the 'D:\\venvs\\pdpd-gpu\\Scripts\\python.exe -m pip install --upgrade pip' command.\n"
     ]
    },
    {
     "output_type": "stream",
     "name": "stdout",
     "text": [
      "Collecting paddlehub\n",
      "  Downloading paddlehub-2.1.0-py3-none-any.whl (211 kB)\n",
      "Requirement already satisfied: packaging in d:\\venvs\\pdpd-gpu\\lib\\site-packages (from paddlehub) (21.0)\n",
      "Collecting tqdm\n",
      "  Using cached tqdm-4.61.2-py2.py3-none-any.whl (76 kB)\n",
      "Collecting gitpython\n",
      "  Downloading GitPython-3.1.18-py3-none-any.whl (170 kB)\n",
      "Requirement already satisfied: colorama in d:\\venvs\\pdpd-gpu\\lib\\site-packages (from paddlehub) (0.4.4)\n",
      "Requirement already satisfied: pyzmq in d:\\venvs\\pdpd-gpu\\lib\\site-packages (from paddlehub) (22.1.0)\n",
      "Collecting paddle2onnx>=0.5.1\n",
      "  Downloading paddle2onnx-0.7-py3-none-any.whl (94 kB)\n",
      "Collecting colorlog\n",
      "  Downloading colorlog-5.0.1-py2.py3-none-any.whl (10 kB)\n",
      "Collecting visualdl>=2.0.0\n",
      "  Downloading visualdl-2.2.0-py3-none-any.whl (2.7 MB)\n",
      "Requirement already satisfied: Pillow in d:\\venvs\\pdpd-gpu\\lib\\site-packages (from paddlehub) (8.3.1)\n",
      "Collecting pyyaml\n",
      "  Using cached PyYAML-5.4.1-cp39-cp39-win_amd64.whl (213 kB)\n",
      "Requirement already satisfied: opencv-python in d:\\venvs\\pdpd-gpu\\lib\\site-packages (from paddlehub) (4.5.3.56)\n",
      "Collecting rarfile\n",
      "  Downloading rarfile-4.0-py3-none-any.whl (28 kB)\n",
      "Collecting easydict\n",
      "  Downloading easydict-1.9.tar.gz (6.4 kB)\n",
      "Requirement already satisfied: matplotlib in d:\\venvs\\pdpd-gpu\\lib\\site-packages (from paddlehub) (3.4.2)\n",
      "Collecting filelock\n",
      "  Using cached filelock-3.0.12-py3-none-any.whl (7.6 kB)\n",
      "Collecting paddlenlp>=2.0.0rc5\n",
      "  Downloading paddlenlp-2.0.6-py3-none-any.whl (485 kB)\n",
      "Requirement already satisfied: numpy in d:\\venvs\\pdpd-gpu\\lib\\site-packages (from paddlehub) (1.19.3)\n",
      "Collecting flask>=1.1.0\n",
      "  Downloading Flask-2.0.1-py3-none-any.whl (94 kB)\n",
      "Collecting click>=7.1.2\n",
      "  Using cached click-8.0.1-py3-none-any.whl (97 kB)\n",
      "Collecting itsdangerous>=2.0\n",
      "  Downloading itsdangerous-2.0.1-py3-none-any.whl (18 kB)\n",
      "Requirement already satisfied: Jinja2>=3.0 in d:\\venvs\\pdpd-gpu\\lib\\site-packages (from flask>=1.1.0->paddlehub) (3.0.1)\n",
      "Collecting Werkzeug>=2.0\n",
      "  Downloading Werkzeug-2.0.1-py3-none-any.whl (288 kB)\n",
      "Requirement already satisfied: MarkupSafe>=2.0 in d:\\venvs\\pdpd-gpu\\lib\\site-packages (from Jinja2>=3.0->flask>=1.1.0->paddlehub) (2.0.1)\n",
      "Requirement already satisfied: six in d:\\venvs\\pdpd-gpu\\lib\\site-packages (from paddle2onnx>=0.5.1->paddlehub) (1.16.0)\n",
      "Requirement already satisfied: protobuf in d:\\venvs\\pdpd-gpu\\lib\\site-packages (from paddle2onnx>=0.5.1->paddlehub) (3.17.3)\n",
      "Collecting h5py\n",
      "  Downloading h5py-3.3.0-cp39-cp39-win_amd64.whl (2.8 MB)\n",
      "Collecting multiprocess\n",
      "  Downloading multiprocess-0.70.12.2-py39-none-any.whl (128 kB)\n",
      "Collecting seqeval\n",
      "  Downloading seqeval-1.2.2.tar.gz (43 kB)\n",
      "Collecting jieba\n",
      "  Downloading jieba-0.42.1.tar.gz (19.2 MB)\n",
      "Collecting bce-python-sdk\n",
      "  Downloading bce_python_sdk-0.8.61-py3-none-any.whl (197 kB)\n",
      "Collecting Flask-Babel>=1.0.0\n",
      "  Downloading Flask_Babel-2.0.0-py3-none-any.whl (9.3 kB)\n",
      "Requirement already satisfied: pandas in d:\\venvs\\pdpd-gpu\\lib\\site-packages (from visualdl>=2.0.0->paddlehub) (1.3.0)\n",
      "Requirement already satisfied: requests in d:\\venvs\\pdpd-gpu\\lib\\site-packages (from visualdl>=2.0.0->paddlehub) (2.26.0)\n",
      "Collecting pre-commit\n",
      "  Downloading pre_commit-2.13.0-py2.py3-none-any.whl (190 kB)\n",
      "Collecting shellcheck-py\n",
      "  Downloading shellcheck_py-0.7.2.1-py2.py3-none-win_amd64.whl (1.4 MB)\n",
      "Collecting flake8>=3.7.9\n",
      "  Downloading flake8-3.9.2-py2.py3-none-any.whl (73 kB)\n",
      "Collecting mccabe<0.7.0,>=0.6.0\n",
      "  Downloading mccabe-0.6.1-py2.py3-none-any.whl (8.6 kB)\n",
      "Collecting pyflakes<2.4.0,>=2.3.0\n",
      "  Downloading pyflakes-2.3.1-py2.py3-none-any.whl (68 kB)\n",
      "Requirement already satisfied: pycodestyle<2.8.0,>=2.7.0 in d:\\venvs\\pdpd-gpu\\lib\\site-packages (from flake8>=3.7.9->visualdl>=2.0.0->paddlehub) (2.7.0)\n",
      "Requirement already satisfied: pytz in d:\\venvs\\pdpd-gpu\\lib\\site-packages (from Flask-Babel>=1.0.0->visualdl>=2.0.0->paddlehub) (2021.1)\n",
      "Requirement already satisfied: Babel>=2.3 in d:\\venvs\\pdpd-gpu\\lib\\site-packages (from Flask-Babel>=1.0.0->visualdl>=2.0.0->paddlehub) (2.9.1)\n",
      "Collecting pycryptodome>=3.8.0\n",
      "  Downloading pycryptodome-3.10.1-cp35-abi3-win_amd64.whl (1.6 MB)\n",
      "Collecting future>=0.6.0\n",
      "  Downloading future-0.18.2.tar.gz (829 kB)\n",
      "Collecting gitdb<5,>=4.0.1\n",
      "  Downloading gitdb-4.0.7-py3-none-any.whl (63 kB)\n",
      "Collecting smmap<5,>=3.0.1\n",
      "  Downloading smmap-4.0.0-py2.py3-none-any.whl (24 kB)\n",
      "Requirement already satisfied: cycler>=0.10 in d:\\venvs\\pdpd-gpu\\lib\\site-packages (from matplotlib->paddlehub) (0.10.0)\n",
      "Requirement already satisfied: pyparsing>=2.2.1 in d:\\venvs\\pdpd-gpu\\lib\\site-packages (from matplotlib->paddlehub) (2.4.7)\n",
      "Requirement already satisfied: python-dateutil>=2.7 in d:\\venvs\\pdpd-gpu\\lib\\site-packages (from matplotlib->paddlehub) (2.8.2)\n",
      "Requirement already satisfied: kiwisolver>=1.0.1 in d:\\venvs\\pdpd-gpu\\lib\\site-packages (from matplotlib->paddlehub) (1.3.1)\n",
      "Collecting dill>=0.3.4\n",
      "  Downloading dill-0.3.4-py2.py3-none-any.whl (86 kB)\n",
      "Requirement already satisfied: toml in d:\\venvs\\pdpd-gpu\\lib\\site-packages (from pre-commit->visualdl>=2.0.0->paddlehub) (0.10.2)\n",
      "Collecting virtualenv>=20.0.8\n",
      "  Downloading virtualenv-20.6.0-py2.py3-none-any.whl (5.3 MB)\n",
      "Collecting identify>=1.0.0\n",
      "  Downloading identify-2.2.11-py2.py3-none-any.whl (98 kB)\n",
      "Collecting cfgv>=2.0.0\n",
      "  Downloading cfgv-3.3.0-py2.py3-none-any.whl (7.3 kB)\n",
      "Collecting nodeenv>=0.11.1\n",
      "  Downloading nodeenv-1.6.0-py2.py3-none-any.whl (21 kB)\n",
      "Collecting platformdirs<3,>=2\n",
      "  Downloading platformdirs-2.0.2-py2.py3-none-any.whl (10 kB)\n",
      "Collecting backports.entry-points-selectable>=1.0.4\n",
      "  Downloading backports.entry_points_selectable-1.1.0-py2.py3-none-any.whl (6.2 kB)\n",
      "Collecting distlib<1,>=0.3.1\n",
      "  Using cached distlib-0.3.2-py2.py3-none-any.whl (338 kB)\n",
      "Requirement already satisfied: certifi>=2017.4.17 in d:\\venvs\\pdpd-gpu\\lib\\site-packages (from requests->visualdl>=2.0.0->paddlehub) (2021.5.30)\n",
      "Requirement already satisfied: urllib3<1.27,>=1.21.1 in d:\\venvs\\pdpd-gpu\\lib\\site-packages (from requests->visualdl>=2.0.0->paddlehub) (1.26.6)\n",
      "Requirement already satisfied: charset-normalizer~=2.0.0 in d:\\venvs\\pdpd-gpu\\lib\\site-packages (from requests->visualdl>=2.0.0->paddlehub) (2.0.3)\n",
      "Requirement already satisfied: idna<4,>=2.5 in d:\\venvs\\pdpd-gpu\\lib\\site-packages (from requests->visualdl>=2.0.0->paddlehub) (3.2)\n",
      "Collecting scikit-learn>=0.21.3\n",
      "  Using cached scikit_learn-0.24.2-cp39-cp39-win_amd64.whl (6.9 MB)\n",
      "Collecting threadpoolctl>=2.0.0\n",
      "  Using cached threadpoolctl-2.2.0-py3-none-any.whl (12 kB)\n",
      "Collecting joblib>=0.11\n",
      "  Using cached joblib-1.0.1-py3-none-any.whl (303 kB)\n",
      "Collecting scipy>=0.19.1\n",
      "  Using cached scipy-1.7.0-cp39-cp39-win_amd64.whl (33.8 MB)\n",
      "Building wheels for collected packages: future, easydict, jieba, seqeval\n",
      "  Building wheel for future (setup.py): started\n",
      "  Building wheel for future (setup.py): finished with status 'done'\n",
      "  Created wheel for future: filename=future-0.18.2-py3-none-any.whl size=491070 sha256=b52fab8cd1f8d508566f9a6d8f066ed03f20e2f2993192651c9100fa189768a0\n",
      "  Stored in directory: c:\\users\\rswor\\appdata\\local\\pip\\cache\\wheels\\2f\\a0\\d3\\4030d9f80e6b3be787f19fc911b8e7aa462986a40ab1e4bb94\n",
      "  Building wheel for easydict (setup.py): started\n",
      "  Building wheel for easydict (setup.py): finished with status 'done'\n",
      "  Created wheel for easydict: filename=easydict-1.9-py3-none-any.whl size=6361 sha256=692efb35734ea45a2eae65be1c41ef6acd3740071515d966168129ca4a4f34f5\n",
      "  Stored in directory: c:\\users\\rswor\\appdata\\local\\pip\\cache\\wheels\\b2\\1c\\36\\fd8efc3fa029b1445d869f359ec13e8fbce7fc9e81505bca66\n",
      "  Building wheel for jieba (setup.py): started\n",
      "  Building wheel for jieba (setup.py): finished with status 'done'\n",
      "  Created wheel for jieba: filename=jieba-0.42.1-py3-none-any.whl size=19314477 sha256=15bf14920bf5b81ecd145e0f598d8d3be98894f6d4d370ea92781f52fc48d9be\n",
      "  Stored in directory: c:\\users\\rswor\\appdata\\local\\pip\\cache\\wheels\\7d\\74\\cf\\08c94db4b784e2c1ef675a600b7b5b281fd25240dcb954ee7e\n",
      "  Building wheel for seqeval (setup.py): started\n",
      "  Building wheel for seqeval (setup.py): finished with status 'done'\n",
      "  Created wheel for seqeval: filename=seqeval-1.2.2-py3-none-any.whl size=16181 sha256=1bbd66583987db9997b8091e998d3b82bbdcb59721b8f3c11bc601781742a88a\n",
      "  Stored in directory: c:\\users\\rswor\\appdata\\local\\pip\\cache\\wheels\\e2\\a5\\92\\2c80d1928733611c2747a9820e1324a6835524d9411510c142\n",
      "Successfully built future easydict jieba seqeval\n",
      "Installing collected packages: Werkzeug, platformdirs, itsdangerous, filelock, distlib, click, backports.entry-points-selectable, virtualenv, threadpoolctl, scipy, pyyaml, pyflakes, pycryptodome, nodeenv, mccabe, joblib, identify, future, flask, cfgv, smmap, shellcheck-py, scikit-learn, pre-commit, Flask-Babel, flake8, dill, bce-python-sdk, visualdl, seqeval, multiprocess, jieba, h5py, gitdb, colorlog, tqdm, rarfile, paddlenlp, paddle2onnx, gitpython, easydict, paddlehub\n",
      "Successfully installed Flask-Babel-2.0.0 Werkzeug-2.0.1 backports.entry-points-selectable-1.1.0 bce-python-sdk-0.8.61 cfgv-3.3.0 click-8.0.1 colorlog-5.0.1 dill-0.3.4 distlib-0.3.2 easydict-1.9 filelock-3.0.12 flake8-3.9.2 flask-2.0.1 future-0.18.2 gitdb-4.0.7 gitpython-3.1.18 h5py-3.3.0 identify-2.2.11 itsdangerous-2.0.1 jieba-0.42.1 joblib-1.0.1 mccabe-0.6.1 multiprocess-0.70.12.2 nodeenv-1.6.0 paddle2onnx-0.7 paddlehub-2.1.0 paddlenlp-2.0.6 platformdirs-2.0.2 pre-commit-2.13.0 pycryptodome-3.10.1 pyflakes-2.3.1 pyyaml-5.4.1 rarfile-4.0 scikit-learn-0.24.2 scipy-1.7.0 seqeval-1.2.2 shellcheck-py-0.7.2.1 smmap-4.0.0 threadpoolctl-2.2.0 tqdm-4.61.2 virtualenv-20.6.0 visualdl-2.2.0\n",
      "Collecting paddlehub\n",
      "  Using cached paddlehub-2.1.0-py3-none-any.whl (211 kB)\n",
      "Collecting flask>=1.1.0\n",
      "  Using cached Flask-2.0.1-py3-none-any.whl (94 kB)\n",
      "Requirement already satisfied: opencv-python in d:\\venvs\\pdpd-gpu\\lib\\site-packages (from paddlehub) (4.5.3.56)\n",
      "Collecting visualdl>=2.0.0\n",
      "  Using cached visualdl-2.2.0-py3-none-any.whl (2.7 MB)\n",
      "Requirement already satisfied: Pillow in d:\\venvs\\pdpd-gpu\\lib\\site-packages (from paddlehub) (8.3.1)\n",
      "Collecting paddle2onnx>=0.5.1\n",
      "  Using cached paddle2onnx-0.7-py3-none-any.whl (94 kB)\n",
      "Collecting paddlenlp>=2.0.0rc5\n",
      "  Using cached paddlenlp-2.0.6-py3-none-any.whl (485 kB)\n",
      "Collecting filelock\n",
      "  Using cached filelock-3.0.12-py3-none-any.whl (7.6 kB)\n",
      "Collecting rarfile\n",
      "  Using cached rarfile-4.0-py3-none-any.whl (28 kB)\n",
      "Collecting gitpython\n",
      "  Using cached GitPython-3.1.18-py3-none-any.whl (170 kB)\n",
      "Collecting colorlog\n",
      "  Using cached colorlog-5.0.1-py2.py3-none-any.whl (10 kB)\n",
      "Collecting pyyaml\n",
      "  Using cached PyYAML-5.4.1-cp39-cp39-win_amd64.whl (213 kB)\n",
      "Collecting easydict\n",
      "  Using cached easydict-1.9.tar.gz (6.4 kB)\n",
      "Requirement already satisfied: matplotlib in d:\\venvs\\pdpd-gpu\\lib\\site-packages (from paddlehub) (3.4.2)\n",
      "Requirement already satisfied: colorama in d:\\venvs\\pdpd-gpu\\lib\\site-packages (from paddlehub) (0.4.4)\n",
      "Requirement already satisfied: packaging in d:\\venvs\\pdpd-gpu\\lib\\site-packages (from paddlehub) (21.0)\n",
      "Collecting tqdm\n",
      "  Using cached tqdm-4.61.2-py2.py3-none-any.whl (76 kB)\n",
      "Requirement already satisfied: pyzmq in d:\\venvs\\pdpd-gpu\\lib\\site-packages (from paddlehub) (22.1.0)\n",
      "Requirement already satisfied: numpy in d:\\venvs\\pdpd-gpu\\lib\\site-packages (from paddlehub) (1.19.3)\n",
      "Collecting Werkzeug>=2.0\n",
      "  Using cached Werkzeug-2.0.1-py3-none-any.whl (288 kB)\n",
      "Requirement already satisfied: Jinja2>=3.0 in d:\\venvs\\pdpd-gpu\\lib\\site-packages (from flask>=1.1.0->paddlehub) (3.0.1)\n",
      "Collecting click>=7.1.2\n",
      "  Using cached click-8.0.1-py3-none-any.whl (97 kB)\n",
      "Collecting itsdangerous>=2.0\n",
      "  Using cached itsdangerous-2.0.1-py3-none-any.whl (18 kB)\n",
      "Requirement already satisfied: MarkupSafe>=2.0 in d:\\venvs\\pdpd-gpu\\lib\\site-packages (from Jinja2>=3.0->flask>=1.1.0->paddlehub) (2.0.1)\n",
      "Requirement already satisfied: protobuf in d:\\venvs\\pdpd-gpu\\lib\\site-packages (from paddle2onnx>=0.5.1->paddlehub) (3.17.3)\n",
      "Requirement already satisfied: six in d:\\venvs\\pdpd-gpu\\lib\\site-packages (from paddle2onnx>=0.5.1->paddlehub) (1.16.0)\n",
      "Collecting seqeval\n",
      "  Using cached seqeval-1.2.2.tar.gz (43 kB)\n",
      "Collecting jieba\n",
      "  Using cached jieba-0.42.1-py3-none-any.whl\n",
      "Collecting h5py\n",
      "  Using cached h5py-3.3.0-cp39-cp39-win_amd64.whl (2.8 MB)\n",
      "Collecting multiprocess\n",
      "  Using cached multiprocess-0.70.12.2-py39-none-any.whl (128 kB)\n",
      "Requirement already satisfied: requests in d:\\venvs\\pdpd-gpu\\lib\\site-packages (from visualdl>=2.0.0->paddlehub) (2.26.0)\n",
      "Collecting flake8>=3.7.9\n",
      "  Using cached flake8-3.9.2-py2.py3-none-any.whl (73 kB)\n",
      "Collecting bce-python-sdk\n",
      "  Using cached bce_python_sdk-0.8.61-py3-none-any.whl (197 kB)\n",
      "Requirement already satisfied: pandas in d:\\venvs\\pdpd-gpu\\lib\\site-packages (from visualdl>=2.0.0->paddlehub) (1.3.0)\n",
      "Collecting Flask-Babel>=1.0.0\n",
      "  Using cached Flask_Babel-2.0.0-py3-none-any.whl (9.3 kB)\n",
      "Collecting shellcheck-py\n",
      "  Using cached shellcheck_py-0.7.2.1-py2.py3-none-win_amd64.whl (1.4 MB)\n",
      "Collecting pre-commit\n",
      "  Using cached pre_commit-2.13.0-py2.py3-none-any.whl (190 kB)\n",
      "Collecting pyflakes<2.4.0,>=2.3.0\n",
      "  Using cached pyflakes-2.3.1-py2.py3-none-any.whl (68 kB)\n",
      "Requirement already satisfied: pycodestyle<2.8.0,>=2.7.0 in d:\\venvs\\pdpd-gpu\\lib\\site-packages (from flake8>=3.7.9->visualdl>=2.0.0->paddlehub) (2.7.0)\n",
      "Collecting mccabe<0.7.0,>=0.6.0\n",
      "  Using cached mccabe-0.6.1-py2.py3-none-any.whl (8.6 kB)\n",
      "Requirement already satisfied: Babel>=2.3 in d:\\venvs\\pdpd-gpu\\lib\\site-packages (from Flask-Babel>=1.0.0->visualdl>=2.0.0->paddlehub) (2.9.1)\n",
      "Requirement already satisfied: pytz in d:\\venvs\\pdpd-gpu\\lib\\site-packages (from Flask-Babel>=1.0.0->visualdl>=2.0.0->paddlehub) (2021.1)\n",
      "Collecting pycryptodome>=3.8.0\n",
      "  Using cached pycryptodome-3.10.1-cp35-abi3-win_amd64.whl (1.6 MB)\n",
      "Collecting future>=0.6.0\n",
      "  Using cached future-0.18.2-py3-none-any.whl\n",
      "Collecting gitdb<5,>=4.0.1\n",
      "  Using cached gitdb-4.0.7-py3-none-any.whl (63 kB)\n",
      "Collecting smmap<5,>=3.0.1\n",
      "  Using cached smmap-4.0.0-py2.py3-none-any.whl (24 kB)\n",
      "Requirement already satisfied: cycler>=0.10 in d:\\venvs\\pdpd-gpu\\lib\\site-packages (from matplotlib->paddlehub) (0.10.0)\n",
      "Requirement already satisfied: kiwisolver>=1.0.1 in d:\\venvs\\pdpd-gpu\\lib\\site-packages (from matplotlib->paddlehub) (1.3.1)\n",
      "Requirement already satisfied: pyparsing>=2.2.1 in d:\\venvs\\pdpd-gpu\\lib\\site-packages (from matplotlib->paddlehub) (2.4.7)\n",
      "Requirement already satisfied: python-dateutil>=2.7 in d:\\venvs\\pdpd-gpu\\lib\\site-packages (from matplotlib->paddlehub) (2.8.2)\n",
      "Collecting dill>=0.3.4\n",
      "  Using cached dill-0.3.4-py2.py3-none-any.whl (86 kB)\n",
      "Collecting virtualenv>=20.0.8\n",
      "  Using cached virtualenv-20.6.0-py2.py3-none-any.whl (5.3 MB)\n",
      "Collecting identify>=1.0.0\n",
      "  Using cached identify-2.2.11-py2.py3-none-any.whl (98 kB)\n",
      "Collecting nodeenv>=0.11.1\n",
      "  Using cached nodeenv-1.6.0-py2.py3-none-any.whl (21 kB)\n",
      "Requirement already satisfied: toml in d:\\venvs\\pdpd-gpu\\lib\\site-packages (from pre-commit->visualdl>=2.0.0->paddlehub) (0.10.2)\n",
      "Collecting cfgv>=2.0.0\n",
      "  Using cached cfgv-3.3.0-py2.py3-none-any.whl (7.3 kB)\n",
      "Collecting distlib<1,>=0.3.1\n",
      "  Using cached distlib-0.3.2-py2.py3-none-any.whl (338 kB)\n",
      "Collecting backports.entry-points-selectable>=1.0.4\n",
      "  Using cached backports.entry_points_selectable-1.1.0-py2.py3-none-any.whl (6.2 kB)\n",
      "Collecting platformdirs<3,>=2\n",
      "  Using cached platformdirs-2.0.2-py2.py3-none-any.whl (10 kB)\n",
      "Requirement already satisfied: idna<4,>=2.5 in d:\\venvs\\pdpd-gpu\\lib\\site-packages (from requests->visualdl>=2.0.0->paddlehub) (3.2)\n",
      "Requirement already satisfied: charset-normalizer~=2.0.0 in d:\\venvs\\pdpd-gpu\\lib\\site-packages (from requests->visualdl>=2.0.0->paddlehub) (2.0.3)\n",
      "Requirement already satisfied: urllib3<1.27,>=1.21.1 in d:\\venvs\\pdpd-gpu\\lib\\site-packages (from requests->visualdl>=2.0.0->paddlehub) (1.26.6)\n",
      "Requirement already satisfied: certifi>=2017.4.17 in d:\\venvs\\pdpd-gpu\\lib\\site-packages (from requests->visualdl>=2.0.0->paddlehub) (2021.5.30)\n",
      "Collecting scikit-learn>=0.21.3\n",
      "  Using cached scikit_learn-0.24.2-cp39-cp39-win_amd64.whl (6.9 MB)\n",
      "Collecting joblib>=0.11\n",
      "  Using cached joblib-1.0.1-py3-none-any.whl (303 kB)\n",
      "Collecting scipy>=0.19.1\n",
      "  Using cached scipy-1.7.0-cp39-cp39-win_amd64.whl (33.8 MB)\n",
      "Collecting threadpoolctl>=2.0.0\n",
      "  Using cached threadpoolctl-2.2.0-py3-none-any.whl (12 kB)\n",
      "Building wheels for collected packages: easydict, seqeval\n",
      "  Building wheel for easydict (setup.py): started\n",
      "  Building wheel for easydict (setup.py): finished with status 'done'\n",
      "  Created wheel for easydict: filename=easydict-1.9-py3-none-any.whl size=6361 sha256=b10ce44b6b278a09637225655b6a9cc4958bc8d75f7a25663be9fa89d1aa4a40\n",
      "  Stored in directory: c:\\users\\rswor\\appdata\\local\\pip\\cache\\wheels\\b2\\1c\\36\\fd8efc3fa029b1445d869f359ec13e8fbce7fc9e81505bca66\n",
      "  Building wheel for seqeval (setup.py): started\n",
      "  Building wheel for seqeval (setup.py): finished with status 'done'\n",
      "  Created wheel for seqeval: filename=seqeval-1.2.2-py3-none-any.whl size=16181 sha256=d83238d0d6f80d7ef3ae0e46a97193340638361e8bf8db5ccf39e6b9178d17cb\n",
      "  Stored in directory: c:\\users\\rswor\\appdata\\local\\pip\\cache\\wheels\\e2\\a5\\92\\2c80d1928733611c2747a9820e1324a6835524d9411510c142\n",
      "Successfully built easydict seqeval\n",
      "Installing collected packages: Werkzeug, platformdirs, itsdangerous, filelock, distlib, click, backports.entry-points-selectable, virtualenv, threadpoolctl, scipy, pyyaml, pyflakes, pycryptodome, nodeenv, mccabe, joblib, identify, future, flask, cfgv, smmap, shellcheck-py, scikit-learn, pre-commit, Flask-Babel, flake8, dill, bce-python-sdk, visualdl, seqeval, multiprocess, jieba, h5py, gitdb, colorlog, tqdm, rarfile, paddlenlp, paddle2onnx, gitpython, easydict, paddlehub\n",
      "Successfully installed Flask-Babel-2.0.0 Werkzeug-2.0.1 backports.entry-points-selectable-1.1.0 bce-python-sdk-0.8.61 cfgv-3.3.0 click-8.0.1 colorlog-5.0.1 dill-0.3.4 distlib-0.3.2 easydict-1.9 filelock-3.0.12 flake8-3.9.2 flask-2.0.1 future-0.18.2 gitdb-4.0.7 gitpython-3.1.18 h5py-3.3.0 identify-2.2.11 itsdangerous-2.0.1 jieba-0.42.1 joblib-1.0.1 mccabe-0.6.1 multiprocess-0.70.12.2 nodeenv-1.6.0 paddle2onnx-0.7 paddlehub-2.1.0 paddlenlp-2.0.6 platformdirs-2.0.2 pre-commit-2.13.0 pycryptodome-3.10.1 pyflakes-2.3.1 pyyaml-5.4.1 rarfile-4.0 scikit-learn-0.24.2 scipy-1.7.0 seqeval-1.2.2 shellcheck-py-0.7.2.1 smmap-4.0.0 threadpoolctl-2.2.0 tqdm-4.61.2 virtualenv-20.6.0 visualdl-2.2.0\n"
     ]
    },
    {
     "output_type": "stream",
     "name": "stderr",
     "text": [
      "WARNING: You are using pip version 21.1.2; however, version 21.1.3 is available.\n",
      "You should consider upgrading via the 'D:\\venvs\\pdpd-gpu\\Scripts\\python.exe -m pip install --upgrade pip' command.\n"
     ]
    }
   ],
   "metadata": {}
  },
  {
   "cell_type": "markdown",
   "source": [
    "加载数据"
   ],
   "metadata": {}
  },
  {
   "cell_type": "code",
   "execution_count": 1,
   "source": [
    "import paddlehub.vision.transforms as T\r\n",
    "from car_classification_dataset import CarsForClassification\r\n",
    "transforms = T.Compose(\r\n",
    "        [T.Resize((256, 256)),\r\n",
    "         T.CenterCrop(224),\r\n",
    "         T.Normalize(mean=[0.485, 0.456, 0.406], std=[0.229, 0.224, 0.225])],\r\n",
    "        to_rgb=True)\r\n",
    "\r\n",
    "cars_train = CarsForClassification(transforms)\r\n",
    "cars_test =  CarsForClassification(transforms, mode='test')"
   ],
   "outputs": [],
   "metadata": {}
  },
  {
   "cell_type": "code",
   "execution_count": 2,
   "source": [
    "CarsForClassification()"
   ],
   "outputs": [
    {
     "output_type": "execute_result",
     "data": {
      "text/plain": [
       "<car_classification_dataset.CarsForClassification at 0x251675f07c0>"
      ]
     },
     "metadata": {},
     "execution_count": 2
    }
   ],
   "metadata": {}
  },
  {
   "cell_type": "code",
   "execution_count": 2,
   "source": [
    "import paddlehub as hub\r\n",
    "import json\r\n",
    "from car_classification_dataset import CAR_CLASSIFICATION_PATH\r\n",
    "\r\n",
    "with open(CAR_CLASSIFICATION_PATH + \"map.json\") as f:\r\n",
    "    dat = json.load(f)\r\n",
    "model = hub.Module(name=\"resnet50_vd_imagenet_ssld\", label_list=list(dat.keys()))"
   ],
   "outputs": [
    {
     "output_type": "stream",
     "name": "stdout",
     "text": [
      "load pretrained parameters success\n"
     ]
    }
   ],
   "metadata": {}
  },
  {
   "cell_type": "code",
   "execution_count": 3,
   "source": [
    "config = hub.RunConfig(\r\n",
    "    use_cuda=True,                              #是否使用GPU训练，默认为False；\r\n",
    "    num_epoch=10,                                #Fine-tune的轮数；\r\n",
    "    checkpoint_dir=\"car_classification_model\",#模型checkpoint保存路径, 若用户没有指定，程序会自动生成；\r\n",
    "    batch_size=128,                              #训练的批大小，如果使用GPU，请根据实际情况调整batch_size；\r\n",
    "    eval_interval=50,                           #模型评估的间隔，默认每100个step评估一次验证集；\r\n",
    "    )  #Fine-tune优化策略；"
   ],
   "outputs": [],
   "metadata": {}
  },
  {
   "cell_type": "code",
   "execution_count": 4,
   "source": [
    "import paddle\r\n",
    "from paddlehub.finetune.trainer import Trainer\r\n",
    "optimizer = paddle.optimizer.Adam(learning_rate=0.001, parameters=model.parameters())\r\n",
    "trainer = Trainer(model, optimizer, checkpoint_dir='car_classification_model', use_gpu=False)"
   ],
   "outputs": [
    {
     "output_type": "stream",
     "name": "stderr",
     "text": [
      "\u001b[33m[2021-07-25 11:19:04,043] [ WARNING]\u001b[0m - PaddleHub model checkpoint not found, start from scratch...\u001b[0m\n"
     ]
    }
   ],
   "metadata": {}
  },
  {
   "cell_type": "code",
   "execution_count": null,
   "source": [
    "trainer.train(cars_train, epochs=10, batch_size=64, eval_dataset=cars_test, save_interval=1)"
   ],
   "outputs": [
    {
     "output_type": "error",
     "ename": "Error",
     "evalue": "Session cannot generate requests",
     "traceback": [
      "Error: Session cannot generate requests",
      "at w.executeCodeCell (c:\\Users\\rswor\\.vscode\\extensions\\ms-toolsai.jupyter-2021.8.1054968649\\out\\client\\extension.js:90:320068)",
      "at w.execute (c:\\Users\\rswor\\.vscode\\extensions\\ms-toolsai.jupyter-2021.8.1054968649\\out\\client\\extension.js:90:319389)",
      "at w.start (c:\\Users\\rswor\\.vscode\\extensions\\ms-toolsai.jupyter-2021.8.1054968649\\out\\client\\extension.js:90:315205)",
      "at runMicrotasks (<anonymous>)",
      "at processTicksAndRejections (internal/process/task_queues.js:93:5)",
      "at t.CellExecutionQueue.executeQueuedCells (c:\\Users\\rswor\\.vscode\\extensions\\ms-toolsai.jupyter-2021.8.1054968649\\out\\client\\extension.js:90:329732)",
      "at t.CellExecutionQueue.start (c:\\Users\\rswor\\.vscode\\extensions\\ms-toolsai.jupyter-2021.8.1054968649\\out\\client\\extension.js:90:329272)"
     ]
    }
   ],
   "metadata": {}
  },
  {
   "cell_type": "code",
   "execution_count": null,
   "source": [],
   "outputs": [],
   "metadata": {}
  }
 ],
 "metadata": {
  "orig_nbformat": 4,
  "language_info": {
   "name": "python",
   "version": "3.9.5",
   "mimetype": "text/x-python",
   "codemirror_mode": {
    "name": "ipython",
    "version": 3
   },
   "pygments_lexer": "ipython3",
   "nbconvert_exporter": "python",
   "file_extension": ".py"
  },
  "kernelspec": {
   "name": "python3",
   "display_name": "Python 3.9.5 64-bit"
  },
  "interpreter": {
   "hash": "e46a389c1378db660fdda85a45ca7917711eaa307fa0ff88a345dbcd5cc9203e"
  }
 },
 "nbformat": 4,
 "nbformat_minor": 2
}