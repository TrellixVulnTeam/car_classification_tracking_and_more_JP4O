{
 "cells": [
  {
   "cell_type": "markdown",
   "id": "bd65eec9",
   "metadata": {},
   "source": [
    "# 数据准备"
   ]
  },
  {
   "cell_type": "code",
   "execution_count": 2,
   "id": "ca4f9f39",
   "metadata": {},
   "outputs": [],
   "source": [
    "DATA_PATH = \"datasets/\""
   ]
  },
  {
   "cell_type": "markdown",
   "id": "9530c287",
   "metadata": {},
   "source": [
    "## 车辆分类"
   ]
  },
  {
   "cell_type": "markdown",
   "id": "3b29f053",
   "metadata": {},
   "source": [
    "预处理原始车型列表，生成车的型号 id 与车辆类型的对应关系"
   ]
  },
  {
   "cell_type": "code",
   "execution_count": 4,
   "id": "6051337c",
   "metadata": {},
   "outputs": [],
   "source": [
    "CAR_CLASSIFICATION_PATH = DATA_PATH + \"car_classification/\"\n",
    "car_cateogries = {}"
   ]
  },
  {
   "cell_type": "code",
   "execution_count": 5,
   "id": "a088d14a",
   "metadata": {},
   "outputs": [],
   "source": [
    "def read_vehicle_info():\n",
    "    with open(CAR_CLASSIFICATION_PATH + 'vehicle_info.txt') as f:\n",
    "        lines = f.readlines()\n",
    "    groups = [line.split(';') for line in lines]\n",
    "    return {g[0].split('/')[-1]: g[-2] for g in groups}\n"
   ]
  },
  {
   "cell_type": "markdown",
   "id": "f7d2c80f",
   "metadata": {},
   "source": [
    "获取车辆标记信息，查看一共有多少类"
   ]
  },
  {
   "cell_type": "code",
   "execution_count": 7,
   "id": "239de407",
   "metadata": {},
   "outputs": [
    {
     "name": "stdout",
     "output_type": "stream",
     "text": [
      "13\n"
     ]
    },
    {
     "data": {
      "text/plain": [
       "{'HGV/large truck',\n",
       " 'SUV',\n",
       " 'bulk lorry/fence truck',\n",
       " 'business purpose vehicle/MPV',\n",
       " 'large-sized bus',\n",
       " 'light passenger vehicle',\n",
       " 'minibus',\n",
       " 'minivan',\n",
       " 'others',\n",
       " 'pickup truck',\n",
       " 'sedan',\n",
       " 'small-sized truck',\n",
       " 'tank car/tanker'}"
      ]
     },
     "execution_count": 7,
     "metadata": {},
     "output_type": "execute_result"
    }
   ],
   "source": [
    "car_category_labels = read_vehicle_info()\n",
    "car_categories = {x.strip() for x in car_category_labels.values()}\n",
    "print(len(car_categories))\n",
    "car_categories"
   ]
  },
  {
   "cell_type": "markdown",
   "id": "6f568bf7",
   "metadata": {},
   "source": [
    "可以看出， 一共有十三类 , 将其转换为字典格式, 然后我们把各类别与数字的对应关系存储到文件里。"
   ]
  },
  {
   "cell_type": "code",
   "execution_count": 8,
   "id": "67e6c2f3",
   "metadata": {},
   "outputs": [],
   "source": [
    "car_categories = {value:id for id, value in enumerate(car_categories)}"
   ]
  },
  {
   "cell_type": "code",
   "execution_count": 9,
   "id": "6157de48",
   "metadata": {},
   "outputs": [],
   "source": [
    "import json\n",
    "with open(CAR_CLASSIFICATION_PATH + \"map.json\", \"w\") as f:\n",
    "    json.dump(car_categories, f)"
   ]
  },
  {
   "cell_type": "markdown",
   "id": "ae6c26a0",
   "metadata": {},
   "source": [
    "保存文件名-车辆类型映射字典以备后用"
   ]
  },
  {
   "cell_type": "code",
   "execution_count": 10,
   "id": "3475bff8",
   "metadata": {},
   "outputs": [],
   "source": [
    "import json\n",
    "with open(CAR_CLASSIFICATION_PATH + \"labels.json\",\"w\") as f:\n",
    "    json.dump(car_category_labels, f)\n"
   ]
  },
  {
   "cell_type": "markdown",
   "id": "7d098906",
   "metadata": {},
   "source": [
    "生成训练集/测试集列表"
   ]
  },
  {
   "cell_type": "code",
   "execution_count": 12,
   "id": "1ace8ee4",
   "metadata": {},
   "outputs": [],
   "source": [
    "import os\n",
    "total_cnt = 0\n",
    "def get_car_classification_label(root,file):\n",
    "    fileid = file.split('.')[0]\n",
    "    return car_categories[car_category_labels[fileid].strip()]\n",
    "\n",
    "with open(CAR_CLASSIFICATION_PATH + 'train.list','w') as ftrain:\n",
    "    with open(CAR_CLASSIFICATION_PATH + 'test.list', 'w') as ftest:\n",
    "        for root, _, files in os.walk(CAR_CLASSIFICATION_PATH + 'images/'):\n",
    "            for file in files:\n",
    "                # 每十张图片选九张加入训练集，选一张加入测试集\n",
    "                if total_cnt % 10 == 1:\n",
    "                    ftest.write(f\"{root+'/'+file}*{get_car_classification_label(root,file)}\\n\")\n",
    "                else:\n",
    "                    ftrain.write(f\"{root+'/'+file}*{get_car_classification_label(root,file)}\\n\")\n",
    "                total_cnt += 1"
   ]
  },
  {
   "cell_type": "code",
   "execution_count": 13,
   "id": "aa32a795",
   "metadata": {},
   "outputs": [],
   "source": [
    "with open(CAR_CLASSIFICATION_PATH + \"labels.json\") as f:\n",
    "    a = json.load(f)"
   ]
  },
  {
   "cell_type": "code",
   "execution_count": null,
   "id": "d22d14f0",
   "metadata": {},
   "outputs": [],
   "source": []
  }
 ],
 "metadata": {
  "interpreter": {
   "hash": "c8818f5b85df54c176fde4f562b94afd0680a4aefaf7de209b7b4b37caf91da0"
  },
  "kernelspec": {
   "display_name": "Python 3",
   "language": "python",
   "name": "python3"
  },
  "language_info": {
   "codemirror_mode": {
    "name": "ipython",
    "version": 3
   },
   "file_extension": ".py",
   "mimetype": "text/x-python",
   "name": "python",
   "nbconvert_exporter": "python",
   "pygments_lexer": "ipython3",
   "version": "3.9.6"
  }
 },
 "nbformat": 4,
 "nbformat_minor": 5
}
